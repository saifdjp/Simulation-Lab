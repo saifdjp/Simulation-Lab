{
 "cells": [
  {
   "cell_type": "markdown",
   "metadata": {},
   "source": [
    "# Determining The Value of Pi with Monte-Carlo Method"
   ]
  },
  {
   "cell_type": "code",
   "execution_count": 13,
   "metadata": {},
   "outputs": [],
   "source": [
    "import numpy as np\n",
    "import pandas as pd\n",
    "import math\n",
    "import matplotlib.pyplot as plt"
   ]
  },
  {
   "cell_type": "code",
   "execution_count": 2,
   "metadata": {},
   "outputs": [],
   "source": [
    "IT = [100,1000,5000,10000,100000]\n",
    "val_of_pi = list()"
   ]
  },
  {
   "cell_type": "code",
   "execution_count": 3,
   "metadata": {},
   "outputs": [],
   "source": [
    "for k in IT:\n",
    "    hit = 0\n",
    "    \n",
    "    A = np.random.uniform(0,1,k)\n",
    "    B = np.random.uniform(0,1,k)\n",
    "    \n",
    "    for i in range(k):\n",
    "        x = A[i]\n",
    "        y = B[i]\n",
    "        \n",
    "        if( (x*x)+(y*y) ) <= 1:\n",
    "            hit = hit+1\n",
    "    pi = 4 * (hit/k)\n",
    "    val_of_pi.append(pi)"
   ]
  },
  {
   "cell_type": "code",
   "execution_count": 4,
   "metadata": {},
   "outputs": [
    {
     "data": {
      "text/plain": [
       "[3.32, 3.152, 3.14, 3.1756, 3.14616]"
      ]
     },
     "execution_count": 4,
     "metadata": {},
     "output_type": "execute_result"
    }
   ],
   "source": [
    "val_of_pi"
   ]
  },
  {
   "cell_type": "markdown",
   "metadata": {},
   "source": [
    "# Intrigating Xe^x"
   ]
  },
  {
   "cell_type": "code",
   "execution_count": 71,
   "metadata": {},
   "outputs": [],
   "source": [
    "n = 1000000\n",
    "a=0\n",
    "b=2\n",
    "func_sum = 0\n",
    "func_square_sum = 0 "
   ]
  },
  {
   "cell_type": "code",
   "execution_count": 72,
   "metadata": {},
   "outputs": [],
   "source": [
    "def func(x):\n",
    "    return x*math.exp(x)"
   ]
  },
  {
   "cell_type": "code",
   "execution_count": 73,
   "metadata": {},
   "outputs": [],
   "source": [
    "X = np.random.uniform(a,b,n)"
   ]
  },
  {
   "cell_type": "code",
   "execution_count": 74,
   "metadata": {},
   "outputs": [],
   "source": [
    "for i in range(n):\n",
    "    x = X[i]\n",
    "    func_value = func(x)\n",
    "    func_sum = func_sum + func_value\n",
    "    func_square_sum = func_square_sum + func_value**2\n",
    "\n",
    "    func_avg = func_sum/n\n",
    "    integral_value = (b-a)*func_avg\n",
    "    func_square_avg = func_square_sum/n"
   ]
  },
  {
   "cell_type": "code",
   "execution_count": 75,
   "metadata": {},
   "outputs": [
    {
     "name": "stdout",
     "output_type": "stream",
     "text": [
      "8.396083853303965\n"
     ]
    }
   ],
   "source": [
    "print(integral_value)"
   ]
  },
  {
   "cell_type": "code",
   "execution_count": 76,
   "metadata": {},
   "outputs": [
    {
     "name": "stdout",
     "output_type": "stream",
     "text": [
      "0.008098886560184879\n"
     ]
    }
   ],
   "source": [
    "error = ((b-a)/np.sqrt(n)) * np.sqrt((func_square_avg - func_avg**2))\n",
    "print(error)"
   ]
  },
  {
   "cell_type": "code",
   "execution_count": null,
   "metadata": {},
   "outputs": [],
   "source": []
  }
 ],
 "metadata": {
  "kernelspec": {
   "display_name": "Python 3",
   "language": "python",
   "name": "python3"
  },
  "language_info": {
   "codemirror_mode": {
    "name": "ipython",
    "version": 3
   },
   "file_extension": ".py",
   "mimetype": "text/x-python",
   "name": "python",
   "nbconvert_exporter": "python",
   "pygments_lexer": "ipython3",
   "version": "3.7.6"
  },
  "toc": {
   "base_numbering": 1,
   "nav_menu": {},
   "number_sections": true,
   "sideBar": true,
   "skip_h1_title": false,
   "title_cell": "Table of Contents",
   "title_sidebar": "Contents",
   "toc_cell": false,
   "toc_position": {},
   "toc_section_display": true,
   "toc_window_display": false
  }
 },
 "nbformat": 4,
 "nbformat_minor": 4
}
