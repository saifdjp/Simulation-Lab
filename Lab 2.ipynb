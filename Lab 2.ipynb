{
 "cells": [
  {
   "cell_type": "markdown",
   "metadata": {
    "heading_collapsed": true
   },
   "source": [
    "# Buffon's Niddle"
   ]
  },
  {
   "cell_type": "code",
   "execution_count": 1,
   "metadata": {
    "hidden": true
   },
   "outputs": [],
   "source": [
    "import numpy as np\n",
    "import pandas as pd\n",
    "import matplotlib.pyplot as plt\n",
    "import math  "
   ]
  },
  {
   "cell_type": "code",
   "execution_count": 22,
   "metadata": {
    "hidden": true
   },
   "outputs": [],
   "source": [
    "np.random.seed(42)\n",
    "tick_label = ['100','1000','5000','10000']\n",
    "shots = [100,1000,5000,10000,100000,1000000]\n",
    "error_list = []\n",
    "pi_list = []\n",
    "\n",
    "for total_shots in shots: \n",
    "    x = np.random.choice([1, 0],total_shots, p=[0.64, 0.36])\n",
    "    total_hits = sum(x)\n",
    "    pi = 2 * (total_shots/total_hits)\n",
    "    error = abs(math.pi- pi)*100\n",
    "\n",
    "    pi_list.append(pi)\n",
    "    error_list.append(error)\n",
    "\n",
    "\n",
    "  "
   ]
  },
  {
   "cell_type": "code",
   "execution_count": 23,
   "metadata": {
    "hidden": true
   },
   "outputs": [
    {
     "name": "stdout",
     "output_type": "stream",
     "text": [
      "[2.9411764705882355, 3.0816640986132513, 3.1181789834736513, 3.090712409210323, 3.1312135017926197, 3.12625050020008]\n",
      "[20.04161830015576, 5.9928554976541815, 2.3413670116141816, 5.088024437947025, 1.0379151797173414, 1.5342153389712898]\n"
     ]
    }
   ],
   "source": [
    "print(pi_list)\n",
    "print(error_list)"
   ]
  },
  {
   "cell_type": "code",
   "execution_count": 25,
   "metadata": {
    "hidden": true
   },
   "outputs": [
    {
     "data": {
      "image/png": "[encoded data removed]",
      "text/plain": [
       "<Figure size 432x288 with 1 Axes>"
      ]
     },
     "metadata": {
      "needs_background": "light"
     },
     "output_type": "display_data"
    }
   ],
   "source": [
    "label = ['100','1000','5000','10000',\"100000\",'1000000']\n",
    "  \n",
    "plt.bar(label,error_list) \n",
    "  \n",
    "# naming the x-axis \n",
    "plt.xlabel('Shots') \n",
    "# naming the y-axis \n",
    "plt.ylabel('Error') \n",
    "# plot title \n",
    "plt.title('My bar chart!') \n",
    "  \n",
    "# function to show the plot \n",
    "plt.show() \n"
   ]
  },
  {
   "cell_type": "markdown",
   "metadata": {
    "heading_collapsed": true
   },
   "source": [
    "# Calculating area of Circle"
   ]
  },
  {
   "cell_type": "markdown",
   "metadata": {
    "heading_collapsed": true,
    "hidden": true
   },
   "source": [
    "### Considering the circle is x^2+y^2=5"
   ]
  },
  {
   "cell_type": "code",
   "execution_count": 38,
   "metadata": {
    "hidden": true
   },
   "outputs": [],
   "source": [
    "a =0\n",
    "b = 5\n",
    "shots = [100,1000,5000,10000,100000,1000000]"
   ]
  },
  {
   "cell_type": "code",
   "execution_count": 39,
   "metadata": {
    "hidden": true
   },
   "outputs": [],
   "source": [
    "def func(x):\n",
    "    return np.sqrt(25 - x**2)"
   ]
  },
  {
   "cell_type": "code",
   "execution_count": 40,
   "metadata": {
    "hidden": true
   },
   "outputs": [],
   "source": [
    "integral_list = []\n",
    "error_list = []\n",
    "\n",
    "for N in shots:\n",
    "    x = np.random.uniform(a,b,N)\n",
    "    total_sum = 0\n",
    "    f_square_total = 0\n",
    "    for i in range(N):\n",
    "    # func_value =(x[i]*math.exp(x[i]))\n",
    "        func_value = func(x[i])\n",
    "        total_sum = total_sum + func_value\n",
    "\n",
    "        f_square_total = f_square_total + func_value**2\n",
    "\n",
    "\n",
    "    f_mean = total_sum/N\n",
    "    f_square_mean = f_square_total/N\n",
    "    integral_value = ((b-a)*f_mean)*4\n",
    "\n",
    "    error =  ((b-a)/math.sqrt(N))*math.sqrt(f_square_mean - f_mean**2)\n",
    "  \n",
    "    error_list.append(error)\n",
    "    integral_list.append(integral_value)\n",
    "  # print(integral_value)\n",
    "  # print(error)"
   ]
  },
  {
   "cell_type": "markdown",
   "metadata": {
    "heading_collapsed": true,
    "hidden": true
   },
   "source": [
    "### Showing Error vs Shots graph"
   ]
  },
  {
   "cell_type": "code",
   "execution_count": 41,
   "metadata": {
    "hidden": true
   },
   "outputs": [
    {
     "data": {
      "image/png": "[encoded data removed]",
      "text/plain": [
       "<Figure size 432x288 with 1 Axes>"
      ]
     },
     "metadata": {
      "needs_background": "light"
     },
     "output_type": "display_data"
    }
   ],
   "source": [
    "import matplotlib.pyplot as plt \n",
    "label = ['100','1000','5000','10000','100000','1000000']\n",
    "  \n",
    "plt.bar(label,error_list) \n",
    "  \n",
    "# naming the x-axis \n",
    "plt.xlabel('shots') \n",
    "# naming the y-axis \n",
    "plt.ylabel('Error') \n",
    "# plot title \n",
    "plt.title('Error chart!') \n",
    "  \n",
    "# function to show the plot \n",
    "plt.show() \n"
   ]
  },
  {
   "cell_type": "markdown",
   "metadata": {
    "heading_collapsed": true,
    "hidden": true
   },
   "source": [
    "### Showing Area by Shots gruph"
   ]
  },
  {
   "cell_type": "code",
   "execution_count": 48,
   "metadata": {
    "hidden": true
   },
   "outputs": [
    {
     "data": {
      "image/png": "[encoded data removed]",
      "text/plain": [
       "<Figure size 432x288 with 1 Axes>"
      ]
     },
     "metadata": {
      "needs_background": "light"
     },
     "output_type": "display_data"
    }
   ],
   "source": [
    "label = ['100','1000','5000','10000','100000','1000000']\n",
    "  \n",
    "plt.bar(label,integral_list) \n",
    "ax = plt.gca()\n",
    "ax.set_ylim([75,80])\n",
    "\n",
    "plt.xlabel('shots') \n",
    "plt.ylabel('Area') \n",
    "plt.title('Area list') \n",
    "plt.show() "
   ]
  },
  {
   "cell_type": "code",
   "execution_count": null,
   "metadata": {
    "hidden": true
   },
   "outputs": [],
   "source": []
  }
 ],
 "metadata": {
  "kernelspec": {
   "display_name": "Python 3",
   "language": "python",
   "name": "python3"
  },
  "language_info": {
   "codemirror_mode": {
    "name": "ipython",
    "version": 3
   },
   "file_extension": ".py",
   "mimetype": "text/x-python",
   "name": "python",
   "nbconvert_exporter": "python",
   "pygments_lexer": "ipython3",
   "version": "3.7.6"
  },
  "toc": {
   "base_numbering": 1,
   "nav_menu": {},
   "number_sections": true,
   "sideBar": true,
   "skip_h1_title": false,
   "title_cell": "Table of Contents",
   "title_sidebar": "Contents",
   "toc_cell": false,
   "toc_position": {},
   "toc_section_display": true,
   "toc_window_display": false
  }
 },
 "nbformat": 4,
 "nbformat_minor": 4
}
