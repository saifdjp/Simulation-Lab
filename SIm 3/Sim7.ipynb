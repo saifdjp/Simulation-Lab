{
 "cells": [
  {
   "cell_type": "code",
   "execution_count": 69,
   "metadata": {},
   "outputs": [],
   "source": [
    "import matplotlib.pyplot as plt\n",
    "import seaborn as sns\n",
    "import pandas as pd\n",
    "from math import sqrt\n",
    "import numpy as np"
   ]
  },
  {
   "cell_type": "code",
   "execution_count": 88,
   "metadata": {},
   "outputs": [],
   "source": [
    "shoted = [0,0,0,0]\n",
    "\n",
    "x_a = [10]\n",
    "y_a = [10]\n",
    "\n",
    "x_b = [30]\n",
    "y_b = [10]\n",
    "\n",
    "x_c = [30]\n",
    "y_c = [30]\n",
    "\n",
    "x_d = [0]\n",
    "y_d = [30]\n",
    "\n",
    "Va=10\n",
    "Vb=15\n",
    "Vc=12\n",
    "Vd=5\n",
    "\n",
    "\n",
    "distAD = sqrt((x_a[0]-x_d[0])**2 + (y_a[0]-y_d[0])**2) # A -> defender, D is attacker\n",
    "distDC = sqrt((x_d[0]-x_c[0])**2 + (y_d[0]-y_c[0])**2)\n",
    "distCB = sqrt((x_c[0]-x_b[0])**2 + (y_c[0]-y_b[0])**2)\n",
    "distBA = sqrt((x_b[0]-x_a[0])**2 + (y_b[0]-y_a[0])**2)"
   ]
  },
  {
   "cell_type": "code",
   "execution_count": 89,
   "metadata": {},
   "outputs": [
    {
     "data": {
      "text/plain": [
       "(22.360679774997898, 30.0, 20.0, 20.0)"
      ]
     },
     "execution_count": 89,
     "metadata": {},
     "output_type": "execute_result"
    }
   ],
   "source": [
    "distAD,distDC,distCB,distBA"
   ]
  },
  {
   "cell_type": "code",
   "execution_count": 90,
   "metadata": {},
   "outputs": [
    {
     "name": "stdout",
     "output_type": "stream",
     "text": [
      "C shoots D at time ->  2\n",
      "D shoots A at time ->  3\n",
      "C shoots D at time ->  3\n",
      "D shoots A at time ->  4\n",
      "C shoots D at time ->  4\n",
      "D shoots A at time ->  5\n",
      "A shoots B at time ->  5\n",
      "D shoots A at time ->  6\n",
      "C shoots D at time ->  6\n",
      "D shoots A at time ->  8\n",
      "C shoots D at time ->  8\n",
      "D shoots A at time ->  9\n",
      "A shoots B at time ->  9\n",
      "D shoots A at time ->  10\n",
      "C shoots D at time ->  10\n",
      "D shoots A at time ->  12\n",
      "C shoots D at time ->  12\n",
      "D shoots A at time ->  13\n",
      "A shoots B at time ->  13\n",
      "D shoots A at time ->  14\n",
      "C shoots D at time ->  14\n",
      "D shoots A at time ->  16\n",
      "C shoots D at time ->  16\n",
      "D shoots A at time ->  17\n",
      "A shoots B at time ->  17\n",
      "D shoots A at time ->  18\n",
      "C shoots D at time ->  18\n",
      "D shoots A at time ->  20\n",
      "C shoots D at time ->  20\n"
     ]
    }
   ],
   "source": [
    "for t in range(1,21):\n",
    "    \n",
    "    sinAD = (y_a[t-1]-y_d[t-1])/ distAD             #The Sin between AD when D attacks A;;;;; A is the target\n",
    "    cosAD = ( x_a[t-1] - x_d[t-1] ) / distAD\n",
    "    \n",
    "    sinDC = (y_d[t-1]-y_c[t-1])/ distDC\n",
    "    cosDC = ( x_d[t-1] - x_c[t-1] ) / distDC\n",
    "    \n",
    "    sinCB = (y_c[t-1]-y_b[t-1])/ distCB\n",
    "    cosCB = ( x_c[t-1] - x_b[t-1] ) / distCB\n",
    "    \n",
    "    sinBA = (y_b[t-1]-y_a[t-1])/ distBA\n",
    "    cosBA = ( x_b[t-1] - x_a[t-1] ) / distBA\n",
    "    \n",
    "    \n",
    "    \n",
    "   # ----------------------------------------Calculating New Position--------------------------------------------------------------------\n",
    "    xa_new = x_a[t-1] + Va * cosBA\n",
    "    ya_new = y_a[t-1] + Va * sinBA\n",
    "    \n",
    "    xb_new = x_b[t-1] + Vb * cosCB\n",
    "    yb_new = y_b[t-1] + Vb * sinCB\n",
    "    \n",
    "    xc_new = x_c[t-1] + Vc * cosDC\n",
    "    yc_new = y_c[t-1] + Vc * sinDC\n",
    "    \n",
    "    xd_new = x_d[t-1] + Vd * cosAD\n",
    "    yd_new = y_d[t-1] + Vd * sinAD\n",
    "    \n",
    "    \n",
    "    #------------------------------------------Appending New Position--------------------------\n",
    "    x_a.append(xa_new)\n",
    "    y_a.append(ya_new)\n",
    "    x_b.append(xb_new)\n",
    "    y_b.append(yb_new)\n",
    "    x_c.append(xc_new)\n",
    "    y_c.append(yc_new)\n",
    "    x_d.append(xd_new)\n",
    "    y_d.append(yd_new)\n",
    "   \n",
    "    \n",
    "    #----------------------------------------------Calculating New Distance-----------------\n",
    "    \n",
    "    distAD = sqrt((x_a[t]-x_d[t])**2 + (y_a[t]-y_d[t])**2) # A -> defender, D is attacker\n",
    "    distDC = sqrt((x_d[t]-x_c[t])**2 + (y_d[t]-y_c[t])**2)\n",
    "    distCB = sqrt((x_c[t]-x_b[t])**2 + (y_c[t]-y_b[t])**2)\n",
    "    distBA = sqrt((x_b[t]-x_a[t])**2 + (y_b[t]-y_a[t])**2)\n",
    "    \n",
    "    \n",
    "    #-------------------------------------------------Conditions-------------------------------------\n",
    "    \n",
    "    if distAD <= 10:\n",
    "        print(\"D shoots A at time -> \",t)\n",
    "        shoted[0]+=1\n",
    "        \n",
    "    if distDC <= 10:\n",
    "        print(\"C shoots D at time -> \",t)\n",
    "        shoted[3]+=1\n",
    "        \n",
    "    if distCB <= 10:\n",
    "        print(\"B shoots C at time -> \",t)\n",
    "        shoted[2]+=1\n",
    "        \n",
    "    if distBA <= 10:\n",
    "        print(\"A shoots B at time -> \",t)\n",
    "        shoted[1]+=1\n",
    "    "
   ]
  },
  {
   "cell_type": "code",
   "execution_count": 91,
   "metadata": {
    "scrolled": true
   },
   "outputs": [
    {
     "data": {
      "text/plain": [
       "[<matplotlib.lines.Line2D at 0x1a5ba780>,\n",
       " <matplotlib.lines.Line2D at 0x1a5ba8d0>,\n",
       " <matplotlib.lines.Line2D at 0x1a5bac88>,\n",
       " <matplotlib.lines.Line2D at 0x1a5bafd0>]"
      ]
     },
     "execution_count": 91,
     "metadata": {},
     "output_type": "execute_result"
    },
    {
     "data": {
      "image/png": "[encoded data removed]",
      "text/plain": [
       "<Figure size 432x288 with 1 Axes>"
      ]
     },
     "metadata": {
      "needs_background": "light"
     },
     "output_type": "display_data"
    }
   ],
   "source": [
    "plt.plot(x_a,y_a,x_b,y_b,x_c,y_c,x_d,y_d)"
   ]
  },
  {
   "cell_type": "code",
   "execution_count": 92,
   "metadata": {},
   "outputs": [
    {
     "name": "stdout",
     "output_type": "stream",
     "text": [
      "A shotted ->  14  Times\n",
      "B shotted ->  4  Times\n",
      "C shotted ->  0  Times\n",
      "D shotted ->  11  Times\n"
     ]
    }
   ],
   "source": [
    "print(\"A shotted -> \",shoted[0],' Times')\n",
    "print(\"B shotted -> \",shoted[1],' Times')\n",
    "print(\"C shotted -> \",shoted[2],' Times')\n",
    "print(\"D shotted -> \",shoted[3],' Times')"
   ]
  },
  {
   "cell_type": "code",
   "execution_count": null,
   "metadata": {},
   "outputs": [],
   "source": []
  }
 ],
 "metadata": {
  "kernelspec": {
   "display_name": "Python 3",
   "language": "python",
   "name": "python3"
  },
  "language_info": {
   "codemirror_mode": {
    "name": "ipython",
    "version": 3
   },
   "file_extension": ".py",
   "mimetype": "text/x-python",
   "name": "python",
   "nbconvert_exporter": "python",
   "pygments_lexer": "ipython3",
   "version": "3.7.3"
  }
 },
 "nbformat": 4,
 "nbformat_minor": 2
}
