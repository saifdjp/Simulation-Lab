{
 "cells": [
  {
   "cell_type": "code",
   "execution_count": 1,
   "metadata": {},
   "outputs": [],
   "source": [
    "import matplotlib.pyplot as plt\n",
    "import seaborn as sns\n",
    "import pandas as pd\n",
    "from math import sqrt\n",
    "import numpy as np"
   ]
  },
  {
   "cell_type": "code",
   "execution_count": 2,
   "metadata": {},
   "outputs": [],
   "source": [
    "#A Attack D\n",
    "#D Attack T"
   ]
  },
  {
   "cell_type": "code",
   "execution_count": 11,
   "metadata": {},
   "outputs": [],
   "source": [
    "x_t = [100, 110, 120, 129, 140, 149, 158, 168, 179, 188,198, 209, 219, 226, 234, 240]\n",
    "y_t = [0, 3, 6, 10, 15, 20, 26, 32, 37, 34,30, 27, 23, 19, 16, 14]\n",
    "\n",
    "x_d = [0]\n",
    "y_d = [60]\n",
    "\n",
    "x_a = [5]\n",
    "y_a = [150]\n",
    "\n",
    "distDT = sqrt( (x_t[0]-x_d[0])**2  + (y_t[0]-y_d[0])**2 )\n",
    "distAD = sqrt( (x_d[0]-x_a[0])**2  + (y_d[0]-y_a[0])**2 )\n",
    "\n",
    "s1 = 20\n",
    "s2 = 30"
   ]
  },
  {
   "cell_type": "code",
   "execution_count": 12,
   "metadata": {},
   "outputs": [
    {
     "data": {
      "text/plain": [
       "90.13878188659973"
      ]
     },
     "execution_count": 12,
     "metadata": {},
     "output_type": "execute_result"
    }
   ],
   "source": [
    "distAD"
   ]
  },
  {
   "cell_type": "code",
   "execution_count": 13,
   "metadata": {},
   "outputs": [
    {
     "name": "stdout",
     "output_type": "stream",
     "text": [
      "A shoot D at time:-  7\n",
      "A shoot D at time:-  8\n",
      "D shoot T at time:-  10\n",
      "D shoot T at time:-  11\n"
     ]
    }
   ],
   "source": [
    "for t in range(1,13):\n",
    "    sinDT = (y_t[t-1]-y_d[t-1])/distDT\n",
    "    cosDT = ( x_t[t-1] - x_d[t-1] ) / distDT\n",
    "    \n",
    "    sinAD = (y_d[t-1]-y_a[t-1])/distAD\n",
    "    cosAD = ( x_d[t-1] - x_a[t-1] ) / distAD\n",
    "    \n",
    "    xd_new = x_d[t-1] + s1 * cosDT\n",
    "    yd_new = y_d[t-1] + s1 * sinDT\n",
    "    \n",
    "    xa_new = x_a[t-1] + s2 * cosAD\n",
    "    ya_new = y_a[t-1] + s2 * sinAD\n",
    "    \n",
    "    \n",
    "    x_d.append(xd_new)\n",
    "    y_d.append(yd_new)\n",
    "    x_a.append(xa_new)\n",
    "    y_a.append(ya_new)\n",
    "    \n",
    "    \n",
    "    distDT = sqrt( (x_t[t]-x_d[t])**2  + (y_t[t]-y_d[t])**2 )\n",
    "    distAD = sqrt( (x_d[t]-x_a[t])**2  + (y_d[t]-y_a[t])**2 )\n",
    "    \n",
    "    if distDT < 10 :\n",
    "        print(\"D shoot T at time:- \", t)\n",
    "    if distAD < 10 :\n",
    "        print(\"A shoot D at time:- \", t)\n",
    "    "
   ]
  },
  {
   "cell_type": "code",
   "execution_count": 14,
   "metadata": {},
   "outputs": [
    {
     "data": {
      "text/plain": [
       "[<matplotlib.lines.Line2D at 0x18e88a58>,\n",
       " <matplotlib.lines.Line2D at 0x18e88ba8>,\n",
       " <matplotlib.lines.Line2D at 0x18e88f28>]"
      ]
     },
     "execution_count": 14,
     "metadata": {},
     "output_type": "execute_result"
    },
    {
     "data": {
      "image/png": "[encoded data removed]",
      "text/plain": [
       "<Figure size 432x288 with 1 Axes>"
      ]
     },
     "metadata": {
      "needs_background": "light"
     },
     "output_type": "display_data"
    }
   ],
   "source": [
    "plt.plot(x_d,y_d,x_t,y_t,x_a,y_a)"
   ]
  },
  {
   "cell_type": "code",
   "execution_count": null,
   "metadata": {},
   "outputs": [],
   "source": []
  },
  {
   "cell_type": "code",
   "execution_count": null,
   "metadata": {},
   "outputs": [],
   "source": []
  },
  {
   "cell_type": "code",
   "execution_count": null,
   "metadata": {},
   "outputs": [],
   "source": []
  }
 ],
 "metadata": {
  "kernelspec": {
   "display_name": "Python 3",
   "language": "python",
   "name": "python3"
  },
  "language_info": {
   "codemirror_mode": {
    "name": "ipython",
    "version": 3
   },
   "file_extension": ".py",
   "mimetype": "text/x-python",
   "name": "python",
   "nbconvert_exporter": "python",
   "pygments_lexer": "ipython3",
   "version": "3.7.3"
  }
 },
 "nbformat": 4,
 "nbformat_minor": 2
}
