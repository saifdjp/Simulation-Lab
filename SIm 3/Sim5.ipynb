{
 "cells": [
  {
   "cell_type": "markdown",
   "metadata": {},
   "source": [
    "This x,y are cordinates"
   ]
  },
  {
   "cell_type": "code",
   "execution_count": null,
   "metadata": {},
   "outputs": [],
   "source": [
    "import matplotlib.pyplot as plt\n",
    "import seaborn as sns\n",
    "import pandas as pd\n",
    "from math import sqrt\n",
    "import numpy as np"
   ]
  },
  {
   "cell_type": "code",
   "execution_count": null,
   "metadata": {},
   "outputs": [],
   "source": [
    "x_t = [100, 110, 120, 129, 140, 149, 158, 168, 179, 188,198, 209, 219, 226, 234, 240]\n",
    "y_t = [0, 3, 6, 10, 15, 20, 26, 32, 37, 34,30, 27, 23, 19, 16, 14]\n",
    "\n",
    "x_d = [0]\n",
    "y_d = [60]\n",
    "\n",
    "s =20"
   ]
  },
  {
   "cell_type": "code",
   "execution_count": null,
   "metadata": {},
   "outputs": [],
   "source": [
    "dist = sqrt( (x_t[0]-x_d[0])**2  + (y_t[0]-y_d[0])**2 )"
   ]
  },
  {
   "cell_type": "code",
   "execution_count": null,
   "metadata": {},
   "outputs": [],
   "source": [
    "for t in range(1,13):\n",
    "    sin = (y_t[t-1]-y_d[t-1])/dist\n",
    "    cos = ( x_t[t-1] - x_d[t-1] ) / dist\n",
    "    xd_new = x_d[t-1] + s * cos\n",
    "    yd_new = y_d[t-1] + s * sin\n",
    "    \n",
    "    x_d.append(xd_new)\n",
    "    y_d.append(yd_new)\n",
    "    \n",
    "    dist = sqrt( (x_t[t]-x_d[t])**2  + (y_t[t]-y_d[t])**2 )\n",
    "    if dist<10:\n",
    "        print(\"Target Distroyed at time :-\", t )\n",
    "        break"
   ]
  },
  {
   "cell_type": "code",
   "execution_count": null,
   "metadata": {},
   "outputs": [],
   "source": [
    "plt.plot(x_d,y_d,x_t,y_t)"
   ]
  },
  {
   "cell_type": "code",
   "execution_count": null,
   "metadata": {},
   "outputs": [],
   "source": [
    "sns.regplot(x=x_d, y=y_d,scatter_kws={\"s\": 20},order=2, ci=None)\n",
    "sns.regplot(x=x_t[:12], y=y_t[:12],scatter_kws={\"s\": 20},order=2, ci=None)"
   ]
  },
  {
   "cell_type": "code",
   "execution_count": null,
   "metadata": {},
   "outputs": [],
   "source": []
  },
  {
   "cell_type": "code",
   "execution_count": null,
   "metadata": {},
   "outputs": [],
   "source": []
  }
 ],
 "metadata": {
  "kernelspec": {
   "display_name": "Python 3",
   "language": "python",
   "name": "python3"
  },
  "language_info": {
   "codemirror_mode": {
    "name": "ipython",
    "version": 3
   },
   "file_extension": ".py",
   "mimetype": "text/x-python",
   "name": "python",
   "nbconvert_exporter": "python",
   "pygments_lexer": "ipython3",
   "version": "3.7.3"
  }
 },
 "nbformat": 4,
 "nbformat_minor": 2
}
