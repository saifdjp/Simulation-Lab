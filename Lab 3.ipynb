{
 "cells": [
  {
   "cell_type": "code",
   "execution_count": 1,
   "metadata": {},
   "outputs": [],
   "source": [
    "import matplotlib.pyplot as plt\n",
    "import seaborn as sns\n",
    "import pandas as pd\n",
    "from math import sqrt\n",
    "import numpy as np"
   ]
  },
  {
   "cell_type": "markdown",
   "metadata": {},
   "source": [
    "# Single Target and Attacker\n"
   ]
  },
  {
   "cell_type": "markdown",
   "metadata": {},
   "source": [
    "#### D attack T"
   ]
  },
  {
   "cell_type": "code",
   "execution_count": 2,
   "metadata": {},
   "outputs": [],
   "source": [
    "x_t = [100, 110, 120, 129, 140, 149, 158, 168, 179, 188,198, 209, 219, 226, 234, 240]\n",
    "y_t = [0, 3, 6, 10, 15, 20, 26, 32, 37, 34,30, 27, 23, 19, 16, 14]\n",
    "\n",
    "x_d = [0]\n",
    "y_d = [60]\n",
    "\n",
    "speed_d =20"
   ]
  },
  {
   "cell_type": "code",
   "execution_count": 3,
   "metadata": {},
   "outputs": [],
   "source": [
    "dist = sqrt( (x_t[0]-x_d[0])**2  + (y_t[0]-y_d[0])**2 )"
   ]
  },
  {
   "cell_type": "code",
   "execution_count": 4,
   "metadata": {},
   "outputs": [
    {
     "name": "stdout",
     "output_type": "stream",
     "text": [
      "Target Distroyed at time :- 10\n"
     ]
    }
   ],
   "source": [
    "for t in range(1,13):\n",
    "    sin = (y_t[t-1]-y_d[t-1])/dist                  #Target - Attacker\n",
    "    cos = ( x_t[t-1] - x_d[t-1] ) / dist            #Target - Attacker\n",
    "    xd_new = x_d[t-1] + speed_d * cos\n",
    "    yd_new = y_d[t-1] + speed_d * sin\n",
    "    \n",
    "    x_d.append(xd_new)\n",
    "    y_d.append(yd_new)\n",
    "    \n",
    "    dist = sqrt( (x_t[t]-x_d[t])**2  + (y_t[t]-y_d[t])**2 )\n",
    "    if dist<10:\n",
    "        print(\"Target Distroyed at time :-\", t )\n",
    "        break"
   ]
  },
  {
   "cell_type": "code",
   "execution_count": 5,
   "metadata": {},
   "outputs": [
    {
     "data": {
      "text/plain": [
       "[<matplotlib.lines.Line2D at 0x18126208288>,\n",
       " <matplotlib.lines.Line2D at 0x18126204d48>]"
      ]
     },
     "execution_count": 5,
     "metadata": {},
     "output_type": "execute_result"
    },
    {
     "data": {
      "image/png": "[encoded data removed]",
      "text/plain": [
       "<Figure size 432x288 with 1 Axes>"
      ]
     },
     "metadata": {
      "needs_background": "light"
     },
     "output_type": "display_data"
    }
   ],
   "source": [
    "\n",
    "plt.plot(x_d,y_d,x_t,y_t)"
   ]
  },
  {
   "cell_type": "code",
   "execution_count": 10,
   "metadata": {},
   "outputs": [
    {
     "data": {
      "image/png": "[encoded data removed]",
      "text/plain": [
       "<Figure size 432x288 with 1 Axes>"
      ]
     },
     "metadata": {
      "needs_background": "light"
     },
     "output_type": "display_data"
    }
   ],
   "source": [
    "plt.plot(x_d, y_d, color='green', linestyle='dashed' , linewidth = 3, \n",
    "         marker='o', markerfacecolor='blue', markersize=5) \n",
    "\n",
    "plt.plot(x_t, y_t, color='red', linestyle='dashed', linewidth = 3, \n",
    "         marker='o', markerfacecolor='blue', markersize=5) \n",
    "# setting x and y axis range \n",
    "# plt.ylim(1,8) \n",
    "# plt.xlim(1,8) \n",
    "  \n",
    "# naming the x axis \n",
    "plt.xlabel('x - axis') \n",
    "# naming the y axis \n",
    "plt.ylabel('y - axis') \n",
    "  \n",
    "# giving a title to my graph \n",
    "plt.title('Pure Persuit Problem') \n",
    "\n",
    "plt.legend(['D','T'])\n",
    "\n",
    "\n",
    "# function to show the plot \n",
    "plt.show() "
   ]
  },
  {
   "cell_type": "markdown",
   "metadata": {},
   "source": [
    "# Multiple Target and Attacker"
   ]
  },
  {
   "cell_type": "markdown",
   "metadata": {},
   "source": [
    "### A Attack D\n",
    "### D Attack T"
   ]
  },
  {
   "cell_type": "code",
   "execution_count": 11,
   "metadata": {},
   "outputs": [],
   "source": [
    "x_t = [100, 110, 120, 129, 140, 149, 158, 168, 179, 188,198, 209, 219, 226, 234, 240]\n",
    "y_t = [0, 3, 6, 10, 15, 20, 26, 32, 37, 34,30, 27, 23, 19, 16, 14]\n",
    "\n",
    "x_d = [0]\n",
    "y_d = [60]\n",
    "\n",
    "x_a = [5]\n",
    "y_a = [150]\n",
    "\n",
    "distDT = sqrt( (x_t[0]-x_d[0])**2  + (y_t[0]-y_d[0])**2 )\n",
    "distAD = sqrt( (x_d[0]-x_a[0])**2  + (y_d[0]-y_a[0])**2 )\n",
    "\n",
    "speed_d = 20\n",
    "speed_a = 30"
   ]
  },
  {
   "cell_type": "code",
   "execution_count": 13,
   "metadata": {},
   "outputs": [
    {
     "data": {
      "text/plain": [
       "90.13878188659973"
      ]
     },
     "execution_count": 13,
     "metadata": {},
     "output_type": "execute_result"
    }
   ],
   "source": [
    "distAD"
   ]
  },
  {
   "cell_type": "code",
   "execution_count": 14,
   "metadata": {},
   "outputs": [
    {
     "name": "stdout",
     "output_type": "stream",
     "text": [
      "A shoot D at time:-  7\n",
      "A shoot D at time:-  8\n",
      "D shoot T at time:-  10\n",
      "D shoot T at time:-  11\n"
     ]
    }
   ],
   "source": [
    "for t in range(1,13):\n",
    "    sinDT = (y_t[t-1]-y_d[t-1])/distDT                #D attacking T\n",
    "    cosDT = ( x_t[t-1] - x_d[t-1] ) / distDT\n",
    "    \n",
    "    sinAD = (y_d[t-1]-y_a[t-1])/distAD\n",
    "    cosAD = ( x_d[t-1] - x_a[t-1] ) / distAD\n",
    "    \n",
    "    xd_new = x_d[t-1] + speed_d * cosDT\n",
    "    yd_new = y_d[t-1] + speed_d * sinDT\n",
    "    \n",
    "    xa_new = x_a[t-1] + speed_a * cosAD\n",
    "    ya_new = y_a[t-1] + speed_a * sinAD\n",
    "    \n",
    "    \n",
    "    x_d.append(xd_new)\n",
    "    y_d.append(yd_new)\n",
    "    x_a.append(xa_new)\n",
    "    y_a.append(ya_new)\n",
    "    \n",
    "    \n",
    "    distDT = sqrt( (x_t[t]-x_d[t])**2  + (y_t[t]-y_d[t])**2 )\n",
    "    distAD = sqrt( (x_d[t]-x_a[t])**2  + (y_d[t]-y_a[t])**2 )\n",
    "    \n",
    "    if distDT < 10 :\n",
    "        print(\"D shoot T at time:- \", t)\n",
    "    if distAD < 10 :\n",
    "        print(\"A shoot D at time:- \", t)"
   ]
  },
  {
   "cell_type": "code",
   "execution_count": 21,
   "metadata": {},
   "outputs": [
    {
     "data": {
      "image/png": "[encoded data removed]",
      "text/plain": [
       "<Figure size 432x288 with 1 Axes>"
      ]
     },
     "metadata": {
      "needs_background": "light"
     },
     "output_type": "display_data"
    }
   ],
   "source": [
    "plt.plot(x_d, y_d, color='green', linestyle='dashed' , linewidth = 3, \n",
    "         marker='o', markerfacecolor='green', markersize=6) \n",
    "\n",
    "plt.plot(x_t, y_t, color='red', linestyle='dashed', linewidth = 3, \n",
    "         marker='o', markerfacecolor='red', markersize=6) \n",
    "\n",
    "\n",
    "plt.plot(x_a, y_a, color='skyblue', linestyle='dashed', linewidth = 3, \n",
    "         marker='o', markerfacecolor='skyblue', markersize=6) \n",
    "# setting x and y axis range \n",
    "# plt.ylim(1,8) \n",
    "# plt.xlim(1,8) \n",
    "  \n",
    "# naming the x axis \n",
    "plt.xlabel('x - axis') \n",
    "# naming the y axis \n",
    "plt.ylabel('y - axis') \n",
    "  \n",
    "# giving a title to my graph \n",
    "plt.title('Pure Persuit Problem') \n",
    "\n",
    "plt.legend(['D','T','A'])\n",
    "\n",
    "\n",
    "# function to show the plot \n",
    "plt.show() "
   ]
  },
  {
   "cell_type": "markdown",
   "metadata": {},
   "source": [
    "#  Multiple Persuit (Circle)"
   ]
  },
  {
   "cell_type": "code",
   "execution_count": 22,
   "metadata": {},
   "outputs": [],
   "source": [
    "shoted = [0,0,0,0]\n",
    "\n",
    "x_a = [10]\n",
    "y_a = [10]\n",
    "\n",
    "x_b = [30]\n",
    "y_b = [10]\n",
    "\n",
    "x_c = [30]\n",
    "y_c = [30]\n",
    "\n",
    "x_d = [0]\n",
    "y_d = [30]\n",
    "\n",
    "Va=10\n",
    "Vb=15\n",
    "Vc=12\n",
    "Vd=5\n",
    "\n",
    "\n",
    "distDA = sqrt((x_a[0]-x_d[0])**2 + (y_a[0]-y_d[0])**2) # D attack A\n",
    "distAB = sqrt((x_b[0]-x_a[0])**2 + (y_b[0]-y_a[0])**2) # A attack B\n",
    "distBC = sqrt((x_c[0]-x_b[0])**2 + (y_c[0]-y_b[0])**2) # B attack C\n",
    "distCD = sqrt((x_d[0]-x_c[0])**2 + (y_d[0]-y_c[0])**2) # C attack D\n",
    "\n"
   ]
  },
  {
   "cell_type": "code",
   "execution_count": 23,
   "metadata": {},
   "outputs": [
    {
     "data": {
      "text/plain": [
       "(22.360679774997898, 20.0, 20.0, 30.0)"
      ]
     },
     "execution_count": 23,
     "metadata": {},
     "output_type": "execute_result"
    }
   ],
   "source": [
    "distDA,distAB,distBC,distCD"
   ]
  },
  {
   "cell_type": "code",
   "execution_count": 24,
   "metadata": {},
   "outputs": [
    {
     "name": "stdout",
     "output_type": "stream",
     "text": [
      "C shoots D at time ->  2\n",
      "D shoots A at time ->  3\n",
      "C shoots D at time ->  3\n",
      "D shoots A at time ->  4\n",
      "C shoots D at time ->  4\n",
      "D shoots A at time ->  5\n",
      "A shoots B at time ->  5\n",
      "D shoots A at time ->  6\n",
      "C shoots D at time ->  6\n",
      "D shoots A at time ->  8\n",
      "C shoots D at time ->  8\n",
      "D shoots A at time ->  9\n",
      "A shoots B at time ->  9\n",
      "D shoots A at time ->  10\n",
      "C shoots D at time ->  10\n",
      "D shoots A at time ->  12\n",
      "C shoots D at time ->  12\n",
      "D shoots A at time ->  13\n",
      "A shoots B at time ->  13\n",
      "D shoots A at time ->  14\n",
      "C shoots D at time ->  14\n",
      "D shoots A at time ->  16\n",
      "C shoots D at time ->  16\n",
      "D shoots A at time ->  17\n",
      "A shoots B at time ->  17\n",
      "D shoots A at time ->  18\n",
      "C shoots D at time ->  18\n",
      "D shoots A at time ->  20\n",
      "C shoots D at time ->  20\n"
     ]
    }
   ],
   "source": [
    "for t in range(1,21):\n",
    "    \n",
    "    sinDA = (y_a[t-1]-y_d[t-1])/ distDA             #The Sin between AD when D attacks A;;;;; A is the target\n",
    "    cosDA = ( x_a[t-1] - x_d[t-1] ) / distDA\n",
    "    \n",
    "    sinAB = (y_b[t-1]-y_a[t-1])/ distAB\n",
    "    cosAB = ( x_b[t-1] - x_a[t-1] ) / distAB\n",
    "    \n",
    "    sinBC = (y_c[t-1]-y_b[t-1])/ distBC\n",
    "    cosBC = ( x_c[t-1] - x_b[t-1] ) / distBC\n",
    "    \n",
    "    \n",
    "    sinCD = (y_d[t-1]-y_c[t-1])/ distCD\n",
    "    cosCD = ( x_d[t-1] - x_c[t-1] ) / distCD\n",
    "    \n",
    "    \n",
    "    \n",
    "    \n",
    "    \n",
    "    \n",
    "   # ----------------------------------------Calculating New Position--------------------------------------------------------------------\n",
    "    xa_new = x_a[t-1] + Va * cosAB\n",
    "    ya_new = y_a[t-1] + Va * sinAB\n",
    "    \n",
    "    xb_new = x_b[t-1] + Vb * cosBC\n",
    "    yb_new = y_b[t-1] + Vb * sinBC\n",
    "    \n",
    "    xc_new = x_c[t-1] + Vc * cosCD\n",
    "    yc_new = y_c[t-1] + Vc * sinCD\n",
    "    \n",
    "    xd_new = x_d[t-1] + Vd * cosDA\n",
    "    yd_new = y_d[t-1] + Vd * sinDA\n",
    "    \n",
    "    \n",
    "    #------------------------------------------Appending New Position--------------------------\n",
    "    x_a.append(xa_new)\n",
    "    y_a.append(ya_new)\n",
    "    x_b.append(xb_new)\n",
    "    y_b.append(yb_new)\n",
    "    x_c.append(xc_new)\n",
    "    y_c.append(yc_new)\n",
    "    x_d.append(xd_new)\n",
    "    y_d.append(yd_new)\n",
    "   \n",
    "    \n",
    "    #----------------------------------------------Calculating New Distance-----------------\n",
    "    \n",
    "    distDA = sqrt((x_a[t]-x_d[t])**2 + (y_a[t]-y_d[t])**2) # A -> defender, D is attacker\n",
    "    distAB = sqrt((x_b[t]-x_a[t])**2 + (y_b[t]-y_a[t])**2)\n",
    "    distBC = sqrt((x_c[t]-x_b[t])**2 + (y_c[t]-y_b[t])**2)\n",
    "    distCD = sqrt((x_d[t]-x_c[t])**2 + (y_d[t]-y_c[t])**2)\n",
    "    \n",
    "    \n",
    "    \n",
    "    \n",
    "    #-------------------------------------------------Conditions-------------------------------------\n",
    "    \n",
    "    if distDA <= 10:\n",
    "        print(\"D shoots A at time -> \",t)\n",
    "        shoted[0]+=1\n",
    "        \n",
    "    if distAB <= 10:\n",
    "        print(\"A shoots B at time -> \",t)\n",
    "        shoted[1]+=1\n",
    "    \n",
    "    if distBC <= 10:\n",
    "        print(\"B shoots C at time -> \",t)\n",
    "        shoted[2]+=1\n",
    "        \n",
    "        \n",
    "    if distCD <= 10:\n",
    "        print(\"C shoots D at time -> \",t)\n",
    "        shoted[3]+=1\n",
    "    "
   ]
  },
  {
   "cell_type": "code",
   "execution_count": 26,
   "metadata": {},
   "outputs": [
    {
     "name": "stdout",
     "output_type": "stream",
     "text": [
      "A got shotted ->  14  Times\n",
      "B got shotted ->  4  Times\n",
      "C got shotted ->  0  Times\n",
      "D got shotted ->  11  Times\n"
     ]
    }
   ],
   "source": [
    "print(\"A got shotted -> \",shoted[0],' Times')\n",
    "print(\"B got shotted -> \",shoted[1],' Times')\n",
    "print(\"C got shotted -> \",shoted[2],' Times')\n",
    "print(\"D got shotted -> \",shoted[3],' Times')"
   ]
  },
  {
   "cell_type": "code",
   "execution_count": 27,
   "metadata": {},
   "outputs": [
    {
     "data": {
      "text/plain": [
       "Text(0.5, 1.0, 'Round Chase Problem')"
      ]
     },
     "execution_count": 27,
     "metadata": {},
     "output_type": "execute_result"
    },
    {
     "data": {
      "image/png": "[encoded data removed]",
      "text/plain": [
       "<Figure size 432x288 with 1 Axes>"
      ]
     },
     "metadata": {
      "needs_background": "light"
     },
     "output_type": "display_data"
    }
   ],
   "source": [
    "plt.plot(x_d, y_d, color='yellow', linestyle='dashed' , linewidth = 2, \n",
    "         marker='o', markerfacecolor='yellow', markersize=6) \n",
    "plt.plot(x_c, y_c, color='red', linestyle='dashed', linewidth = 2, \n",
    "         marker='o', markerfacecolor='red', markersize=6) \n",
    "plt.plot(x_a, y_a, color='green', linestyle='dashed', linewidth = 2, \n",
    "         marker='o', markerfacecolor='green', markersize=6) \n",
    "plt.plot(x_b, y_b, color='blue', linestyle='dashed', linewidth = 2, \n",
    "         marker='o', markerfacecolor='blue', markersize=6) \n",
    "# naming the x axis \n",
    "plt.xlabel('x - axis') \n",
    "# naming the y axis \n",
    "plt.ylabel('y - axis') \n",
    "\n",
    "plt.legend([\"D\",\"C\",'A','B'])\n",
    "\n",
    "# giving a title to my graph \n",
    "plt.title('Round Chase Problem') "
   ]
  },
  {
   "cell_type": "code",
   "execution_count": null,
   "metadata": {},
   "outputs": [],
   "source": []
  }
 ],
 "metadata": {
  "kernelspec": {
   "display_name": "Python 3",
   "language": "python",
   "name": "python3"
  },
  "language_info": {
   "codemirror_mode": {
    "name": "ipython",
    "version": 3
   },
   "file_extension": ".py",
   "mimetype": "text/x-python",
   "name": "python",
   "nbconvert_exporter": "python",
   "pygments_lexer": "ipython3",
   "version": "3.7.6"
  },
  "toc": {
   "base_numbering": 1,
   "nav_menu": {},
   "number_sections": true,
   "sideBar": true,
   "skip_h1_title": false,
   "title_cell": "Table of Contents",
   "title_sidebar": "Contents",
   "toc_cell": false,
   "toc_position": {},
   "toc_section_display": true,
   "toc_window_display": false
  }
 },
 "nbformat": 4,
 "nbformat_minor": 4
}
